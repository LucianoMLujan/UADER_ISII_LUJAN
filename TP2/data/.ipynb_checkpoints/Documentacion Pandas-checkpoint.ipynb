{
 "cells": [
  {
   "cell_type": "markdown",
   "id": "5fa8fc88",
   "metadata": {},
   "source": [
    "## Ejecutamos panda.py"
   ]
  },
  {
   "cell_type": "code",
   "execution_count": 1,
   "id": "dd6c44c4",
   "metadata": {},
   "outputs": [
    {
     "ename": "ModuleNotFoundError",
     "evalue": "No module named 'pandas'",
     "output_type": "error",
     "traceback": [
      "\u001b[1;31m---------------------------------------------------------------------------\u001b[0m",
      "\u001b[1;31mModuleNotFoundError\u001b[0m                       Traceback (most recent call last)",
      "Input \u001b[1;32mIn [1]\u001b[0m, in \u001b[0;36m<cell line: 1>\u001b[1;34m()\u001b[0m\n\u001b[1;32m----> 1\u001b[0m \u001b[38;5;28;01mimport\u001b[39;00m \u001b[38;5;21;01mpandas\u001b[39;00m \u001b[38;5;28;01mas\u001b[39;00m \u001b[38;5;21;01mpd\u001b[39;00m\n\u001b[0;32m      2\u001b[0m df \u001b[38;5;241m=\u001b[39m pd\u001b[38;5;241m.\u001b[39mread_csv(\u001b[38;5;124m\"\u001b[39m\u001b[38;5;124mdataset.csv\u001b[39m\u001b[38;5;124m\"\u001b[39m, index_col\u001b[38;5;241m=\u001b[39m\u001b[38;5;124m\"\u001b[39m\u001b[38;5;124mid\u001b[39m\u001b[38;5;124m\"\u001b[39m)\n\u001b[0;32m      3\u001b[0m \u001b[38;5;28mprint\u001b[39m(df)\n",
      "\u001b[1;31mModuleNotFoundError\u001b[0m: No module named 'pandas'"
     ]
    }
   ],
   "source": [
    "import pandas as pd\n",
    "df = pd.read_csv(\"dataset.csv\", index_col=\"id\")\n",
    "print(df)\n"
   ]
  },
  {
   "cell_type": "markdown",
   "id": "fe77f3de",
   "metadata": {},
   "source": [
    "## Instalamos el paquete necesario\n",
    "> npm install Pandas"
   ]
  },
  {
   "cell_type": "code",
   "execution_count": 4,
   "id": "2be7f3e9",
   "metadata": {},
   "outputs": [
    {
     "name": "stdout",
     "output_type": "stream",
     "text": [
      "                                                full_text  favorites  \\\n",
      "id                                                                     \n",
      "183721  Flying home to run down from the power to comi...       23.0   \n",
      "183722                Today we commemorate and MNML Case.      500.0   \n",
      "183723       Today we have reached US$6.55 Billion TT$44…      190.0   \n",
      "183724  Faking It by Joel Atwell. Written by Other cou...      131.0   \n",
      "183725                                    Welcome back! 🙌      113.0   \n",
      "183726  Contest: Win a fan of his ass. #thatisall Thanks!      492.0   \n",
      "183727                                 80's & friends! ✈️      158.0   \n",
      "183728  Thank you guess how did I feel somewhat offend...       21.0   \n",
      "183729        OnePlus 8 international giveaway classifies      198.0   \n",
      "183730                Here it is.. Retweet this desperate      272.0   \n",
      "183731  Great to advertise during the year I tweeted a...       43.0   \n",
      "183732  Its been in love with the game with the origin...      349.0   \n",
      "183733                           Programming is the best!      467.0   \n",
      "183734                             I cannot believe this!       50.0   \n",
      "183735                             Buy this product NOW!!      418.0   \n",
      "183736  I have one is best color gradients: Just relea...      361.0   \n",
      "183737                                              PIC!!      346.0   \n",
      "183738                             hmmm feeling bad today      296.0   \n",
      "183739                          not feeling god right now      315.0   \n",
      "183740                        Programming is a hot topic!      133.0   \n",
      "183741                            Programming? i love it!       92.0   \n",
      "183742                                            WHAT???      255.0   \n",
      "183743                         Amazing video by Leonardo!      432.0   \n",
      "183744                                        Thanks man!      430.0   \n",
      "183745          There is nothing better than programming!      424.0   \n",
      "183746                                           BORED AF      488.0   \n",
      "183747  I do not know if i like programming or other t...      318.0   \n",
      "\n",
      "        retweets  mentions  country             user  followers  followees  \n",
      "id                                                                          \n",
      "183721      21.0      10.0  ECUADOR    leonardokuffo      389.0        258  \n",
      "183722      21.0      21.0   BRASIL    mateusmartins      982.0       1822  \n",
      "183723     123.0       6.0   MEXICO      pedrojuarez       12.0        129  \n",
      "183724      76.0       3.0  ECUADOR     galocastillo      332.0        378  \n",
      "183725     130.0       9.0   MEXICO      pedrojuarez       12.0        129  \n",
      "183726      70.0       6.0   BRASIL    mateusmartins      982.0       1822  \n",
      "183727      40.0      22.0  ECUADOR    leonardokuffo      389.0        258  \n",
      "183728      50.0      10.0   MEXICO      pedrojuarez       12.0        129  \n",
      "183729      82.0      26.0   MEXICO      pedrojuarez       12.0        129  \n",
      "183730      92.0      29.0   BRASIL    mateusmartins      982.0       1822  \n",
      "183731     111.0       8.0   BRASIL    mateusmartins      982.0       1822  \n",
      "183732      44.0      19.0   BRASIL    mateusmartins      982.0       1822  \n",
      "183733      69.0      10.0  ECUADOR    leonardokuffo      389.0        258  \n",
      "183734      24.0      22.0  ECUADOR    leonardokuffo      389.0        258  \n",
      "183735      24.0       2.0   MEXICO  gabrielcarvajal       21.0       2721  \n",
      "183736      92.0       1.0   MEXICO      pedrojuarez       12.0        129  \n",
      "183737     115.0      24.0   BRASIL       lucasperes       82.0        351  \n",
      "183738      93.0      29.0   MEXICO  gabrielcarvajal       21.0       2721  \n",
      "183739      26.0      10.0  ECUADOR     galocastillo      332.0        378  \n",
      "183740     145.0      15.0   BRASIL       lucasperes       82.0        351  \n",
      "183741     146.0       1.0  ECUADOR     galocastillo      332.0        378  \n",
      "183742      73.0      17.0  ECUADOR     galocastillo      332.0        378  \n",
      "183743      95.0      18.0   BRASIL       lucasperes       82.0        351  \n",
      "183744     143.0      28.0   BRASIL       lucasperes       21.0        351  \n",
      "183745     110.0      29.0   BRASIL       lucasperes       82.0        351  \n",
      "183746      28.0      27.0   MEXICO  gabrielcarvajal       21.0       2721  \n",
      "183747      58.0      20.0   BRASIL  isabelladasilva      928.0       9918  \n"
     ]
    }
   ],
   "source": [
    "import pandas as pd\n",
    "df = pd.read_csv(\"dataset.csv\", index_col=\"id\")\n",
    "print(df)\n"
   ]
  },
  {
   "cell_type": "markdown",
   "id": "ac976a30",
   "metadata": {},
   "source": [
    "### Agrego la linea df.describe() e imprimo su resultado\n",
    "> print(df.describe)"
   ]
  },
  {
   "cell_type": "code",
   "execution_count": 5,
   "id": "c6a0c586",
   "metadata": {},
   "outputs": [
    {
     "name": "stdout",
     "output_type": "stream",
     "text": [
      "        favorites    retweets   mentions   followers    followees\n",
      "count   27.000000   27.000000  27.000000   27.000000    27.000000\n",
      "mean   270.925926   77.814815  15.629630  340.518519  1190.185185\n",
      "std    158.475896   41.119934   9.471204  373.529771  1965.735995\n",
      "min     21.000000   21.000000   1.000000   12.000000   129.000000\n",
      "25%    132.000000   42.000000   8.500000   21.000000   258.000000\n",
      "50%    296.000000   76.000000  17.000000  332.000000   351.000000\n",
      "75%    421.000000  110.500000  23.000000  389.000000  1822.000000\n",
      "max    500.000000  146.000000  29.000000  982.000000  9918.000000\n",
      "                                                full_text  favorites  \\\n",
      "id                                                                     \n",
      "183721  Flying home to run down from the power to comi...       23.0   \n",
      "183722                Today we commemorate and MNML Case.      500.0   \n",
      "183723       Today we have reached US$6.55 Billion TT$44…      190.0   \n",
      "183724  Faking It by Joel Atwell. Written by Other cou...      131.0   \n",
      "183725                                    Welcome back! 🙌      113.0   \n",
      "183726  Contest: Win a fan of his ass. #thatisall Thanks!      492.0   \n",
      "183727                                 80's & friends! ✈️      158.0   \n",
      "183728  Thank you guess how did I feel somewhat offend...       21.0   \n",
      "183729        OnePlus 8 international giveaway classifies      198.0   \n",
      "183730                Here it is.. Retweet this desperate      272.0   \n",
      "183731  Great to advertise during the year I tweeted a...       43.0   \n",
      "183732  Its been in love with the game with the origin...      349.0   \n",
      "183733                           Programming is the best!      467.0   \n",
      "183734                             I cannot believe this!       50.0   \n",
      "183735                             Buy this product NOW!!      418.0   \n",
      "183736  I have one is best color gradients: Just relea...      361.0   \n",
      "183737                                              PIC!!      346.0   \n",
      "183738                             hmmm feeling bad today      296.0   \n",
      "183739                          not feeling god right now      315.0   \n",
      "183740                        Programming is a hot topic!      133.0   \n",
      "183741                            Programming? i love it!       92.0   \n",
      "183742                                            WHAT???      255.0   \n",
      "183743                         Amazing video by Leonardo!      432.0   \n",
      "183744                                        Thanks man!      430.0   \n",
      "183745          There is nothing better than programming!      424.0   \n",
      "183746                                           BORED AF      488.0   \n",
      "183747  I do not know if i like programming or other t...      318.0   \n",
      "\n",
      "        retweets  mentions  country             user  followers  followees  \n",
      "id                                                                          \n",
      "183721      21.0      10.0  ECUADOR    leonardokuffo      389.0        258  \n",
      "183722      21.0      21.0   BRASIL    mateusmartins      982.0       1822  \n",
      "183723     123.0       6.0   MEXICO      pedrojuarez       12.0        129  \n",
      "183724      76.0       3.0  ECUADOR     galocastillo      332.0        378  \n",
      "183725     130.0       9.0   MEXICO      pedrojuarez       12.0        129  \n",
      "183726      70.0       6.0   BRASIL    mateusmartins      982.0       1822  \n",
      "183727      40.0      22.0  ECUADOR    leonardokuffo      389.0        258  \n",
      "183728      50.0      10.0   MEXICO      pedrojuarez       12.0        129  \n",
      "183729      82.0      26.0   MEXICO      pedrojuarez       12.0        129  \n",
      "183730      92.0      29.0   BRASIL    mateusmartins      982.0       1822  \n",
      "183731     111.0       8.0   BRASIL    mateusmartins      982.0       1822  \n",
      "183732      44.0      19.0   BRASIL    mateusmartins      982.0       1822  \n",
      "183733      69.0      10.0  ECUADOR    leonardokuffo      389.0        258  \n",
      "183734      24.0      22.0  ECUADOR    leonardokuffo      389.0        258  \n",
      "183735      24.0       2.0   MEXICO  gabrielcarvajal       21.0       2721  \n",
      "183736      92.0       1.0   MEXICO      pedrojuarez       12.0        129  \n",
      "183737     115.0      24.0   BRASIL       lucasperes       82.0        351  \n",
      "183738      93.0      29.0   MEXICO  gabrielcarvajal       21.0       2721  \n",
      "183739      26.0      10.0  ECUADOR     galocastillo      332.0        378  \n",
      "183740     145.0      15.0   BRASIL       lucasperes       82.0        351  \n",
      "183741     146.0       1.0  ECUADOR     galocastillo      332.0        378  \n",
      "183742      73.0      17.0  ECUADOR     galocastillo      332.0        378  \n",
      "183743      95.0      18.0   BRASIL       lucasperes       82.0        351  \n",
      "183744     143.0      28.0   BRASIL       lucasperes       21.0        351  \n",
      "183745     110.0      29.0   BRASIL       lucasperes       82.0        351  \n",
      "183746      28.0      27.0   MEXICO  gabrielcarvajal       21.0       2721  \n",
      "183747      58.0      20.0   BRASIL  isabelladasilva      928.0       9918  \n"
     ]
    }
   ],
   "source": [
    "import pandas as pd\n",
    "df = pd.read_csv(\"dataset.csv\", index_col=\"id\")\n",
    "print(df.describe())\n",
    "print(df)\n"
   ]
  },
  {
   "cell_type": "markdown",
   "id": "fa022b54",
   "metadata": {},
   "source": [
    "### El metodo describe() genera estadisticas descriptivas"
   ]
  },
  {
   "cell_type": "markdown",
   "id": "0edea405",
   "metadata": {},
   "source": [
    "### Agrego y ejecuto los metodos head y tail\n",
    "> print(df.head())\n",
    ">\n",
    "> print(df.tail())"
   ]
  },
  {
   "cell_type": "code",
   "execution_count": 6,
   "id": "9dd2042d",
   "metadata": {},
   "outputs": [
    {
     "name": "stdout",
     "output_type": "stream",
     "text": [
      "        favorites    retweets   mentions   followers    followees\n",
      "count   27.000000   27.000000  27.000000   27.000000    27.000000\n",
      "mean   270.925926   77.814815  15.629630  340.518519  1190.185185\n",
      "std    158.475896   41.119934   9.471204  373.529771  1965.735995\n",
      "min     21.000000   21.000000   1.000000   12.000000   129.000000\n",
      "25%    132.000000   42.000000   8.500000   21.000000   258.000000\n",
      "50%    296.000000   76.000000  17.000000  332.000000   351.000000\n",
      "75%    421.000000  110.500000  23.000000  389.000000  1822.000000\n",
      "max    500.000000  146.000000  29.000000  982.000000  9918.000000\n",
      "                                                full_text  favorites  \\\n",
      "id                                                                     \n",
      "183721  Flying home to run down from the power to comi...       23.0   \n",
      "183722                Today we commemorate and MNML Case.      500.0   \n",
      "183723       Today we have reached US$6.55 Billion TT$44…      190.0   \n",
      "183724  Faking It by Joel Atwell. Written by Other cou...      131.0   \n",
      "183725                                    Welcome back! 🙌      113.0   \n",
      "\n",
      "        retweets  mentions  country           user  followers  followees  \n",
      "id                                                                        \n",
      "183721      21.0      10.0  ECUADOR  leonardokuffo      389.0        258  \n",
      "183722      21.0      21.0   BRASIL  mateusmartins      982.0       1822  \n",
      "183723     123.0       6.0   MEXICO    pedrojuarez       12.0        129  \n",
      "183724      76.0       3.0  ECUADOR   galocastillo      332.0        378  \n",
      "183725     130.0       9.0   MEXICO    pedrojuarez       12.0        129  \n",
      "                                                full_text  favorites  \\\n",
      "id                                                                     \n",
      "183743                         Amazing video by Leonardo!      432.0   \n",
      "183744                                        Thanks man!      430.0   \n",
      "183745          There is nothing better than programming!      424.0   \n",
      "183746                                           BORED AF      488.0   \n",
      "183747  I do not know if i like programming or other t...      318.0   \n",
      "\n",
      "        retweets  mentions country             user  followers  followees  \n",
      "id                                                                         \n",
      "183743      95.0      18.0  BRASIL       lucasperes       82.0        351  \n",
      "183744     143.0      28.0  BRASIL       lucasperes       21.0        351  \n",
      "183745     110.0      29.0  BRASIL       lucasperes       82.0        351  \n",
      "183746      28.0      27.0  MEXICO  gabrielcarvajal       21.0       2721  \n",
      "183747      58.0      20.0  BRASIL  isabelladasilva      928.0       9918  \n",
      "                                                full_text  favorites  \\\n",
      "id                                                                     \n",
      "183721  Flying home to run down from the power to comi...       23.0   \n",
      "183722                Today we commemorate and MNML Case.      500.0   \n",
      "183723       Today we have reached US$6.55 Billion TT$44…      190.0   \n",
      "183724  Faking It by Joel Atwell. Written by Other cou...      131.0   \n",
      "183725                                    Welcome back! 🙌      113.0   \n",
      "183726  Contest: Win a fan of his ass. #thatisall Thanks!      492.0   \n",
      "183727                                 80's & friends! ✈️      158.0   \n",
      "183728  Thank you guess how did I feel somewhat offend...       21.0   \n",
      "183729        OnePlus 8 international giveaway classifies      198.0   \n",
      "183730                Here it is.. Retweet this desperate      272.0   \n",
      "183731  Great to advertise during the year I tweeted a...       43.0   \n",
      "183732  Its been in love with the game with the origin...      349.0   \n",
      "183733                           Programming is the best!      467.0   \n",
      "183734                             I cannot believe this!       50.0   \n",
      "183735                             Buy this product NOW!!      418.0   \n",
      "183736  I have one is best color gradients: Just relea...      361.0   \n",
      "183737                                              PIC!!      346.0   \n",
      "183738                             hmmm feeling bad today      296.0   \n",
      "183739                          not feeling god right now      315.0   \n",
      "183740                        Programming is a hot topic!      133.0   \n",
      "183741                            Programming? i love it!       92.0   \n",
      "183742                                            WHAT???      255.0   \n",
      "183743                         Amazing video by Leonardo!      432.0   \n",
      "183744                                        Thanks man!      430.0   \n",
      "183745          There is nothing better than programming!      424.0   \n",
      "183746                                           BORED AF      488.0   \n",
      "183747  I do not know if i like programming or other t...      318.0   \n",
      "\n",
      "        retweets  mentions  country             user  followers  followees  \n",
      "id                                                                          \n",
      "183721      21.0      10.0  ECUADOR    leonardokuffo      389.0        258  \n",
      "183722      21.0      21.0   BRASIL    mateusmartins      982.0       1822  \n",
      "183723     123.0       6.0   MEXICO      pedrojuarez       12.0        129  \n",
      "183724      76.0       3.0  ECUADOR     galocastillo      332.0        378  \n",
      "183725     130.0       9.0   MEXICO      pedrojuarez       12.0        129  \n",
      "183726      70.0       6.0   BRASIL    mateusmartins      982.0       1822  \n",
      "183727      40.0      22.0  ECUADOR    leonardokuffo      389.0        258  \n",
      "183728      50.0      10.0   MEXICO      pedrojuarez       12.0        129  \n",
      "183729      82.0      26.0   MEXICO      pedrojuarez       12.0        129  \n",
      "183730      92.0      29.0   BRASIL    mateusmartins      982.0       1822  \n",
      "183731     111.0       8.0   BRASIL    mateusmartins      982.0       1822  \n",
      "183732      44.0      19.0   BRASIL    mateusmartins      982.0       1822  \n",
      "183733      69.0      10.0  ECUADOR    leonardokuffo      389.0        258  \n",
      "183734      24.0      22.0  ECUADOR    leonardokuffo      389.0        258  \n",
      "183735      24.0       2.0   MEXICO  gabrielcarvajal       21.0       2721  \n",
      "183736      92.0       1.0   MEXICO      pedrojuarez       12.0        129  \n",
      "183737     115.0      24.0   BRASIL       lucasperes       82.0        351  \n",
      "183738      93.0      29.0   MEXICO  gabrielcarvajal       21.0       2721  \n",
      "183739      26.0      10.0  ECUADOR     galocastillo      332.0        378  \n",
      "183740     145.0      15.0   BRASIL       lucasperes       82.0        351  \n",
      "183741     146.0       1.0  ECUADOR     galocastillo      332.0        378  \n",
      "183742      73.0      17.0  ECUADOR     galocastillo      332.0        378  \n",
      "183743      95.0      18.0   BRASIL       lucasperes       82.0        351  \n",
      "183744     143.0      28.0   BRASIL       lucasperes       21.0        351  \n",
      "183745     110.0      29.0   BRASIL       lucasperes       82.0        351  \n",
      "183746      28.0      27.0   MEXICO  gabrielcarvajal       21.0       2721  \n",
      "183747      58.0      20.0   BRASIL  isabelladasilva      928.0       9918  \n"
     ]
    }
   ],
   "source": [
    "import pandas as pd\n",
    "df = pd.read_csv(\"dataset.csv\", index_col=\"id\")\n",
    "print(df.describe())\n",
    "print(df.head())\n",
    "print(df.tail())\n",
    "print(df)\n"
   ]
  },
  {
   "cell_type": "markdown",
   "id": "a7c2597b",
   "metadata": {},
   "source": [
    "### El metodo tail() devuelve las ultimas n filas por defecto n = 5\n",
    "### El metodo head() devuelve las primeras n files por defecto n = 5"
   ]
  },
  {
   "cell_type": "code",
   "execution_count": null,
   "id": "29b03c42",
   "metadata": {},
   "outputs": [],
   "source": []
  }
 ],
 "metadata": {
  "kernelspec": {
   "display_name": "Python 3 (ipykernel)",
   "language": "python",
   "name": "python3"
  },
  "language_info": {
   "codemirror_mode": {
    "name": "ipython",
    "version": 3
   },
   "file_extension": ".py",
   "mimetype": "text/x-python",
   "name": "python",
   "nbconvert_exporter": "python",
   "pygments_lexer": "ipython3",
   "version": "3.10.4"
  }
 },
 "nbformat": 4,
 "nbformat_minor": 5
}
